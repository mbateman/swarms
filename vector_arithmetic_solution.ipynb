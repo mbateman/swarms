{
 "cells": [
  {
   "cell_type": "markdown",
   "id": "18fbbd6d",
   "metadata": {},
   "source": [
    "# Vector arithmetic\n",
    "\n",
    "See:\n",
    "\n",
    "* At Math is Fun, [Vectors](https://www.mathsisfun.com/algebra/vectors.html)\n",
    "\n",
    "* At Khan Academy, [Unit 6: Vectors](https://www.khanacademy.org/math/precalculus/x9e81a4f98389efdf:vectors)"
   ]
  },
  {
   "cell_type": "code",
   "execution_count": 70,
   "id": "1a53bfc0",
   "metadata": {},
   "outputs": [],
   "source": [
    "class Point2d:\n",
    "    def __init__(self, x, y):\n",
    "        self.x = x\n",
    "        self.y = y\n",
    "\n",
    "    # Subtract two points to get a vector start_point --> self.\n",
    "    def __sub__(self, start_point):\n",
    "        return Vector2d(self.x - start_point.x, self.y - start_point.y)\n",
    "\n",
    "    # Add this point to a vector to get a new point\n",
    "    # (Or add the coordinates of two points, e.g. to calculate an average.)\n",
    "    def __add__(self, other):\n",
    "        return Point2d(self.x + other.x, self.y + other.y)\n",
    "\n",
    "    # Scaling isn't really a point operation.\n",
    "    # It's used by this program to calculate averages.\n",
    "    # Scale this point by multiplying.\n",
    "    def __mul__(self, scale):\n",
    "        return Point2d(self.x * scale, self.y * scale)\n",
    "\n",
    "    # Scale this point by dividing.\n",
    "    def __truediv__(self, scale):\n",
    "        return Point2d(self.x / scale, self.y / scale)\n",
    "\n",
    "    def __str__(self):\n",
    "        return f'({self.x}, {self.y})'\n",
    "\n",
    "    def __repr__(self):\n",
    "        return f'({self.x}, {self.y})'\n",
    "\n",
    "    def draw(self, canvas, color):\n",
    "        RADIUS = 3\n",
    "        canvas.create_oval(\n",
    "            self.x - RADIUS, self.y - RADIUS,\n",
    "            self.x + RADIUS, self.y + RADIUS,\n",
    "            fill=color, outline=color)"
   ]
  },
  {
   "cell_type": "code",
   "execution_count": 57,
   "id": "abb9ca82",
   "metadata": {},
   "outputs": [],
   "source": [
    "import math\n",
    "\n",
    "class Vector2d:\n",
    "    # Initialize from either (a, b) coordinates or two points a --> b.\n",
    "    def __init__(self, a, b):\n",
    "        if type(a) is Point2d:\n",
    "            # Initialize from two points a --> b.\n",
    "            self.x = b.x - a.x\n",
    "            self.y = b.y - a.y\n",
    "        else:\n",
    "            # Initialize from (a, b) coordinates.\n",
    "            self.x = a\n",
    "            self.y = b\n",
    "\n",
    "    # Add two vectors to get a new vector or\n",
    "    # add the vector to a point to get a new point.\n",
    "    def __add__(self, other):\n",
    "        if type(other) is Vector2d:\n",
    "            # Add two vectors to get a new vector.                        s\n",
    "            return Vector2d(self.x + other.x, self.y + other.y)                \n",
    "        else:\n",
    "            # Add the vector to a point to get a new point.           \n",
    "            return Point2d(self.x + other.x, self.y + other.y)\n",
    "\n",
    "    # Return the negation of this vector.\n",
    "    def __neg__(self):\n",
    "        return Vector2d(-self.x, -self.y)\n",
    "\n",
    "    # Subtract two vectors.\n",
    "    def __sub__(self, other):\n",
    "        return Vector2d(self.x - other.x, self.y - other.y)\n",
    "\n",
    "    # Scale this vector by multiplying.\n",
    "    def __mul__(self, scale):\n",
    "        return Vector2d(self.x * scale, self.y * scale)\n",
    "\n",
    "    # Scale this vector by dividing.\n",
    "    def __truediv__(self, scale):\n",
    "        return Vector2d(self.x / scale, self.y / scale)\n",
    "\n",
    "    # Scale the vector.\n",
    "    # Return self so we can use it in further calculations.\n",
    "    def scale(self, scale):\n",
    "        self.x *= scale \n",
    "        self.y *= scale\n",
    "        return self\n",
    "\n",
    "    # Return the vector's length.\n",
    "    def length(self):\n",
    "        return math.sqrt(self.x**2 + self.y**2)\n",
    "\n",
    "    # Set the vector's length to new_length.\n",
    "    # Return self so we can use it in further calculations.\n",
    "    def set_length(self, new_length):\n",
    "        # Get the vector’s current length and then multiply the vector’s \n",
    "        # coordinates by the new length divided by the old length.\n",
    "        old_length = self.length()\n",
    "        if old_length < 0.01: return self # Don't divide by zero.\n",
    "        self.x *= (new_length / old_length)\n",
    "        self.y *= (new_length / old_length)\n",
    "        return self\n",
    "\n",
    "    # Set the vector's length to 1.\n",
    "    # Return self so we can use it in further calculations.\n",
    "    def normalize(self):\n",
    "        self.set_length(1)\n",
    "        return self\n",
    "\n",
    "    def __str__(self):\n",
    "        return f'<{self.x}, {self.y}>'\n",
    "\n",
    "    def __repr__(self):\n",
    "        return f'<{self.x}, {self.y}>'\n",
    "\n",
    "\n",
    "    def draw(self, canvas, start_point, color):\n",
    "        end_point = self + start_point\n",
    "        canvas.create_line(\n",
    "            start_point.x, start_point.y,\n",
    "            end_point.x, end_point.y,\n",
    "            fill=color)"
   ]
  },
  {
   "cell_type": "code",
   "execution_count": 65,
   "id": "7fcd80b0-2abe-4087-8efd-f9aede88791b",
   "metadata": {},
   "outputs": [
    {
     "data": {
      "text/plain": [
       "(<12, 21>, <18, 36>, <30, 57>, (32, 61))"
      ]
     },
     "execution_count": 65,
     "metadata": {},
     "output_type": "execute_result"
    }
   ],
   "source": [
    "v1 = Vector2d(12, 21)\n",
    "v2 = Vector2d(18, 36)\n",
    "p1 = Point2d(20, 40)\n",
    "p2 = v1 + p1\n",
    "v3 = v1 + v2\n",
    "v1, v2, v3, p2"
   ]
  },
  {
   "cell_type": "code",
   "execution_count": 66,
   "id": "9ad76edd-40a9-4d62-8b55-99a59b5e4ac8",
   "metadata": {},
   "outputs": [
    {
     "data": {
      "text/plain": [
       "<-30, -57>"
      ]
     },
     "execution_count": 66,
     "metadata": {},
     "output_type": "execute_result"
    }
   ],
   "source": [
    "-v3"
   ]
  },
  {
   "cell_type": "code",
   "execution_count": 60,
   "id": "3f55887b-3ec9-4ab4-9fea-35304fda4af0",
   "metadata": {},
   "outputs": [
    {
     "data": {
      "text/plain": [
       "24.186773244895647"
      ]
     },
     "execution_count": 60,
     "metadata": {},
     "output_type": "execute_result"
    }
   ],
   "source": [
    "math.sqrt((v1.x**2) + (v1.y**2))"
   ]
  },
  {
   "cell_type": "code",
   "execution_count": 61,
   "id": "8d3fc43a-0d39-45ea-af97-130308602e42",
   "metadata": {},
   "outputs": [
    {
     "data": {
      "text/plain": [
       "8"
      ]
     },
     "execution_count": 61,
     "metadata": {},
     "output_type": "execute_result"
    }
   ],
   "source": [
    "a = 2\n",
    "a *= 4\n",
    "a"
   ]
  },
  {
   "cell_type": "code",
   "execution_count": 72,
   "id": "2bf139d1-b89e-442f-b7f0-45355f9c3cf3",
   "metadata": {},
   "outputs": [
    {
     "data": {
      "text/plain": [
       "__main__.Point2d"
      ]
     },
     "execution_count": 72,
     "metadata": {},
     "output_type": "execute_result"
    }
   ],
   "source": [
    "point1 = Point2d(20, 40)\n",
    "point2 = Point2d(60, 120)\n",
    "vector_1_2 = point2 - point1\n",
    "point3 = (point2 + vector_1_2) + Vector2d(-20, 0)\n",
    "neg_vector_1_2 = -vector_1_2\n",
    "type(point3)"
   ]
  },
  {
   "cell_type": "code",
   "execution_count": 73,
   "id": "98fffed9",
   "metadata": {},
   "outputs": [],
   "source": [
    "import tkinter as tk\n",
    "\n",
    "# Geometry constants.\n",
    "MARGIN = 5\n",
    "WINDOW_WID = 320\n",
    "WINDOW_HGT = 320\n",
    "CANVAS_HGT = WINDOW_HGT - 2 * MARGIN\n",
    "CANVAS_WID = WINDOW_WID - 2 * MARGIN\n",
    "POINT_RADIUS = 4\n",
    "POINT_COLOR = 'green'\n",
    "\n",
    "class App:\n",
    "    # Create and manage the tkinter interface.\n",
    "    def __init__(self):\n",
    "        # Make the main interface.\n",
    "        self.window = tk.Tk()\n",
    "        self.window.title('vector_arithmetic')\n",
    "        self.window.protocol('WM_DELETE_WINDOW', self.kill_callback)\n",
    "        self.window.geometry(f'{WINDOW_WID}x{WINDOW_HGT}')\n",
    "\n",
    "        # Build the rest of the UI.\n",
    "        self.build_ui()\n",
    "\n",
    "        # Test some points and vectors.\n",
    "        point1 = Point2d(20, 40)\n",
    "        point2 = Point2d(60, 120)\n",
    "        vector_1_2 = point2 - point1\n",
    "        point3 = (point2 + vector_1_2) + Vector2d(-20, 0)\n",
    "        neg_vector_1_2 = -vector_1_2\n",
    "\n",
    "        vector_1_2.draw(self.canvas, point1, 'blue')\n",
    "        neg_vector_1_2.draw(self.canvas, point3, 'blue')\n",
    "        point1.draw(self.canvas, 'red')\n",
    "        point2.draw(self.canvas, 'blue')\n",
    "        point3.draw(self.canvas, 'red')\n",
    "        (point3 + neg_vector_1_2).draw(self.canvas, 'blue')\n",
    "\n",
    "        point4 = Point2d(100, 120)\n",
    "        negative_1_2 = -vector_1_2\n",
    "        negative_1_2.draw(self.canvas, point4, 'blue')\n",
    "        point4.draw(self.canvas, 'green')\n",
    "\n",
    "        point5 = Point2d(100, 40)\n",
    "        point6 = Point2d(200, 80)\n",
    "        vector_5_6 = Vector2d(point5, point6)\n",
    "        vector_5_6.draw(self.canvas, point5, 'red')\n",
    "        point5.draw(self.canvas, 'red')\n",
    "        point6.draw(self.canvas, 'red')\n",
    "\n",
    "        vector_6_7 = Vector2d(-40, 80)\n",
    "        point7 = point6 + vector_6_7\n",
    "        vector_6_7.draw(self.canvas, point6, 'red')\n",
    "        point7.draw(self.canvas, 'red')\n",
    "\n",
    "        vector_5_7 = vector_5_6 + vector_6_7\n",
    "        vector_5_7.draw(self.canvas, point5, 'green')\n",
    "\n",
    "        point8 = Point2d(250, 20)\n",
    "        point9 = Point2d(200, 100)\n",
    "        vector_8_9 = point9 - point8\n",
    "        vector_8_9.draw(self.canvas, point8, 'hotpink')\n",
    "        point8.draw(self.canvas, 'red')\n",
    "        point9.draw(self.canvas, 'red')\n",
    "\n",
    "        point10 = point8 + Vector2d(20, 0)\n",
    "        vector_8_9 *= 2\n",
    "        point11 = point10 + vector_8_9\n",
    "        vector_8_9.draw(self.canvas, point10, 'lime')\n",
    "        point10.draw(self.canvas, 'green')\n",
    "        point11.draw(self.canvas, 'green')\n",
    "\n",
    "        point12 = point10 + Vector2d(20, 0)\n",
    "        vector_8_9.set_length(50)\n",
    "        point13= point12 + vector_8_9\n",
    "        vector_8_9.draw(self.canvas, point12, 'cyan')\n",
    "        point12.draw(self.canvas, 'blue')\n",
    "        point13.draw(self.canvas, 'blue')\n",
    "\n",
    "        # Display the window.\n",
    "        self.window.focus_force()\n",
    "        self.window.mainloop()\n",
    "\n",
    "    def build_ui(self):\n",
    "        # Make the drawing canvas.\n",
    "        self.canvas = tk.Canvas(self.window, bg='white',\n",
    "            borderwidth=1, highlightthickness=0, width=CANVAS_WID, height=CANVAS_HGT)\n",
    "        self.canvas.pack(side=tk.LEFT, padx=MARGIN, pady=MARGIN, anchor=tk.NW)\n",
    "\n",
    "        # Draw a grid.\n",
    "        for x in range(10, CANVAS_WID, 10):\n",
    "            if x % 100 == 0:\n",
    "                self.canvas.create_line(\n",
    "                    x, 0, x, CANVAS_HGT, fill='gray')\n",
    "            else:\n",
    "                self.canvas.create_line(\n",
    "                    x, 0, x, CANVAS_HGT, fill='lightgray')\n",
    "        for y in range(10, CANVAS_HGT, 10):\n",
    "            if y % 100 == 0:\n",
    "                self.canvas.create_line(\n",
    "                    0, y, CANVAS_WID, y, fill='gray')\n",
    "            else:\n",
    "                self.canvas.create_line(\n",
    "                    0, y, CANVAS_WID, y, fill='lightgray')\n",
    "\n",
    "    def kill_callback(self):\n",
    "        self.window.destroy()"
   ]
  },
  {
   "cell_type": "code",
   "execution_count": 76,
   "id": "92ce3c41",
   "metadata": {},
   "outputs": [
    {
     "data": {
      "text/plain": [
       "<__main__.App at 0x7f7de064e250>"
      ]
     },
     "execution_count": 76,
     "metadata": {},
     "output_type": "execute_result"
    }
   ],
   "source": [
    "# Main program\n",
    "App()"
   ]
  },
  {
   "cell_type": "code",
   "execution_count": null,
   "id": "a76ca405",
   "metadata": {},
   "outputs": [],
   "source": []
  }
 ],
 "metadata": {
  "kernelspec": {
   "display_name": "Python 3 (ipykernel)",
   "language": "python",
   "name": "python3"
  },
  "language_info": {
   "codemirror_mode": {
    "name": "ipython",
    "version": 3
   },
   "file_extension": ".py",
   "mimetype": "text/x-python",
   "name": "python",
   "nbconvert_exporter": "python",
   "pygments_lexer": "ipython3",
   "version": "3.8.5"
  }
 },
 "nbformat": 4,
 "nbformat_minor": 5
}
